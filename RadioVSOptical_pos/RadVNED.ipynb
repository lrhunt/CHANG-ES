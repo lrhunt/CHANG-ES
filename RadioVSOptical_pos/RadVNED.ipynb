{
 "cells": [
  {
   "cell_type": "code",
   "execution_count": 41,
   "metadata": {},
   "outputs": [],
   "source": [
    "import pandas as pd\n",
    "import numpy as np\n",
    "import astropy as ap\n",
    "from astropy import units as u\n",
    "from astropy.coordinates import SkyCoord"
   ]
  },
  {
   "cell_type": "code",
   "execution_count": 42,
   "metadata": {},
   "outputs": [],
   "source": [
    "rad_coords={'NGC660':'01 43 03.320 +13 38 44 18','NGC2613':'08 33 22.772 -22 58 24.81','NGC2683':'08 52 41.31 +33 25 18.79','NGC3079':'10 01 57.793 +55 40 47.27','NGC3735':'11 35 57.204 +70 32 07.77','NGC4388':'12 25 46.747 +12 39 41.69','NGC4438':'12 27 45.548 +13 00 32.98','NGC4565':'12 36 20.771 +25 59 15.68','NGC4594':'12 39 59.433 -11 37 23.02','NGC4666':'12 45 08.632 -00 27 42.99','NGC4845':'12 58 01.196 +01 34 32.42','NGC5084':'13 20 16.831 -21 49 38.29','NGC5297':'13 46 23.673 +43 52 20.22',}"
   ]
  },
  {
   "cell_type": "code",
   "execution_count": 43,
   "metadata": {},
   "outputs": [
    {
     "data": {
      "text/plain": [
       "{'NGC660': '01 43 03.320 +13 38 44 18',\n",
       " 'NGC2613': '08 33 22.772 -22 58 24.81',\n",
       " 'NGC2683': '08 52 41.31 +33 25 18.79',\n",
       " 'NGC3079': '10 01 57.793 +55 40 47.27',\n",
       " 'NGC3735': '11 35 57.204 +70 32 07.77',\n",
       " 'NGC4388': '12 25 46.747 +12 39 41.69',\n",
       " 'NGC4438': '12 27 45.548 +13 00 32.98',\n",
       " 'NGC4565': '12 36 20.771 +25 59 15.68',\n",
       " 'NGC4594': '12 39 59.433 -11 37 23.02',\n",
       " 'NGC4666': '12 45 08.632 -00 27 42.99',\n",
       " 'NGC4845': '12 58 01.196 +01 34 32.42',\n",
       " 'NGC5084': '13 20 16.831 -21 49 38.29',\n",
       " 'NGC5297': '13 46 23.673 +43 52 20.22'}"
      ]
     },
     "execution_count": 43,
     "metadata": {},
     "output_type": "execute_result"
    }
   ],
   "source": [
    "rad_coords"
   ]
  },
  {
   "cell_type": "code",
   "execution_count": 44,
   "metadata": {},
   "outputs": [],
   "source": [
    "POSITIONS=pd.read_excel('Rad_opt_pos.xlsx')"
   ]
  },
  {
   "cell_type": "code",
   "execution_count": 45,
   "metadata": {
    "scrolled": true
   },
   "outputs": [],
   "source": [
    "RAD_POS=SkyCoord(ra=POSITIONS['RARAD'],dec=POSITIONS['DECRAD'],unit=[u.hourangle,u.deg])"
   ]
  },
  {
   "cell_type": "code",
   "execution_count": 46,
   "metadata": {},
   "outputs": [],
   "source": [
    "NED_POS=SkyCoord(ra=POSITIONS['RANED'],dec=POSITIONS['DECNED'],unit=[u.hourangle,u.deg])"
   ]
  },
  {
   "cell_type": "code",
   "execution_count": 55,
   "metadata": {},
   "outputs": [],
   "source": [
    "POSITIONS['Separation']=RAD_POS.separation(NED_POS).arcsec"
   ]
  },
  {
   "cell_type": "code",
   "execution_count": 56,
   "metadata": {},
   "outputs": [],
   "source": [
    "writer=pd.ExcelWriter('Diference_CHANGES_NED_POS.xlsx')"
   ]
  },
  {
   "cell_type": "code",
   "execution_count": 59,
   "metadata": {},
   "outputs": [],
   "source": [
    "POSITIONS.to_excel(writer,'Sheet1')"
   ]
  },
  {
   "cell_type": "code",
   "execution_count": null,
   "metadata": {},
   "outputs": [],
   "source": []
  }
 ],
 "metadata": {
  "kernelspec": {
   "display_name": "Python 3",
   "language": "python",
   "name": "python3"
  },
  "language_info": {
   "codemirror_mode": {
    "name": "ipython",
    "version": 3
   },
   "file_extension": ".py",
   "mimetype": "text/x-python",
   "name": "python",
   "nbconvert_exporter": "python",
   "pygments_lexer": "ipython3",
   "version": "3.6.6"
  }
 },
 "nbformat": 4,
 "nbformat_minor": 2
}
